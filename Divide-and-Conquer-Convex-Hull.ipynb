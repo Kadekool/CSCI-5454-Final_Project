{
 "cells": [
  {
   "cell_type": "code",
   "execution_count": 1,
   "id": "6537f046",
   "metadata": {},
   "outputs": [],
   "source": [
    "import numpy as np"
   ]
  },
  {
   "cell_type": "code",
   "execution_count": 8,
   "id": "49d82c38",
   "metadata": {},
   "outputs": [
    {
     "name": "stdout",
     "output_type": "stream",
     "text": [
      "[4 5] [1 2]\n"
     ]
    }
   ],
   "source": [
    "def check_line(points):\n",
    "    m = (points[-1][-1] - points[0][-1])/(points[-1][0] - points[0][0])\n",
    "    b = points[-1][-1] - (m*points[-1][0])\n",
    "\n",
    "    if points[1][1] == m*points[1][0] + b:\n",
    "        return [points[0], points[-1]]\n",
    "    else:\n",
    "        return points\n",
    "    \n",
    "\n",
    "\n",
    "\n",
    "convex_hull_2d([])"
   ]
  },
  {
   "cell_type": "code",
   "execution_count": null,
   "id": "17ddd79a",
   "metadata": {},
   "outputs": [],
   "source": [
    "def merge_hulls(left, right):\n",
    "    "
   ]
  },
  {
   "cell_type": "code",
   "execution_count": null,
   "id": "cdc6a534",
   "metadata": {},
   "outputs": [],
   "source": [
    "def convex_hull_2d(points: np.array):\n",
    "    points = np.array([(1,2),(3,4),(4,5)])\n",
    "    if len(points) < 3:\n",
    "        return points\n",
    "    elif len(points) <= 3:\n",
    "        return check_line(points)\n",
    "    else:\n",
    "        midpoint = int(len(points)/2)\n",
    "\n",
    "        left = convex_hull_2d(points[:midpoint])\n",
    "        right = convex_hull_2d(points[midpoint:])\n",
    "\n",
    "        return merge_hulls(left,right)"
   ]
  }
 ],
 "metadata": {
  "kernelspec": {
   "display_name": "Python 3 (ipykernel)",
   "language": "python",
   "name": "python3"
  },
  "language_info": {
   "codemirror_mode": {
    "name": "ipython",
    "version": 3
   },
   "file_extension": ".py",
   "mimetype": "text/x-python",
   "name": "python",
   "nbconvert_exporter": "python",
   "pygments_lexer": "ipython3",
   "version": "3.8.10"
  }
 },
 "nbformat": 4,
 "nbformat_minor": 5
}
