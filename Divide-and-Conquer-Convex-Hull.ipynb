{
 "cells": [
  {
   "cell_type": "code",
   "execution_count": 1,
   "id": "6537f046",
   "metadata": {},
   "outputs": [],
   "source": [
    "import numpy as np"
   ]
  },
  {
   "cell_type": "code",
   "execution_count": 8,
   "id": "49d82c38",
   "metadata": {},
   "outputs": [
    {
     "name": "stdout",
     "output_type": "stream",
     "text": [
      "[4 5] [1 2]\n"
     ]
    }
   ],
   "source": [
    "def check_line(points):\n",
    "    m = (points[-1][-1] - points[0][-1])/(points[-1][0] - points[0][0])\n",
    "    b = points[-1][-1] - (m*points[-1][0])\n",
    "\n",
    "    if points[1][1] == m*points[1][0] + b:\n",
    "        return [points[0], points[-1]]\n",
    "    else:\n",
    "        return points\n",
    "    "
   ]
  },
  {
   "cell_type": "code",
   "execution_count": null,
   "id": "17ddd79a",
   "metadata": {},
   "outputs": [],
   "source": [
    "def merge_hulls(left, right):\n",
    "    u_left, u_right = upper_tangent(left, right)\n",
    "    l_left, l_right = lower_tangent(left, right)\n",
    "    upper_chain = remove_points_between(left, u_left, u_right)\n",
    "    lower_chain = remove_points_between(right, l_right, l_left)\n",
    "    merged_hull = upper_chain + lower_chain\n",
    "    return merged_hull\n",
    "\n",
    "def upper_tangent(left, right):\n",
    "    u_left = max(left, key=lambda p: p[1])\n",
    "    u_right = max(right, key=lambda p: p[1])\n",
    "    while True:\n",
    "        if u_left == max(left, key=lambda p: p[1]):\n",
    "            l = next_point(left, u_left)\n",
    "            if is_left_turn(u_right, u_left, l):\n",
    "                u_left = l\n",
    "                continue\n",
    "        if u_right == max(right, key=lambda p: p[1]):\n",
    "            r = next_point(right, u_right, reverse=True)\n",
    "            if is_left_turn(u_left, u_right, r):\n",
    "                u_right = r\n",
    "                continue\n",
    "        break\n",
    "    return u_left, u_right\n",
    "\n",
    "def lower_tangent(left, right):\n",
    "    l_left = min(left, key=lambda p: p[1])\n",
    "    l_right = min(right, key=lambda p: p[1])\n",
    "    while True:\n",
    "        if l_left == min(left, key=lambda p: p[1]):\n",
    "            l = next_point(left, l_left, reverse=True)\n",
    "            if is_left_turn(l_left, l_right, l):\n",
    "                l_left = l\n",
    "                continue\n",
    "        if l_right == min(right, key=lambda p: p[1]):\n",
    "            r = next_point(right, l_right)\n",
    "            if is_left_turn(r, l_right, l_left):\n",
    "                l_right = r\n",
    "                continue\n",
    "        break\n",
    "    return l_left, l_right\n",
    "\n",
    "def remove_points_between(chain, left_bridge, right_bridge):\n",
    "    if left_bridge in chain:\n",
    "        start = chain.index(left_bridge)\n",
    "    else:\n",
    "        start = chain.index(right_bridge)\n",
    "    if right_bridge in chain:\n",
    "        end = chain.index(right_bridge)\n",
    "    else:\n",
    "        end = chain.index(left_bridge)\n",
    "    if start < end:\n",
    "        return chain[:start+1] + chain[end:]\n",
    "    else:\n",
    "        return chain[:end+1] + chain[start:]\n",
    "\n",
    "def is_left_turn(p1, p2, p3):\n",
    "    return ((p2[0] - p1[0]) * (p3[1] - p1[1]) -\n",
    "            (p2[1] - p1[1]) * (p3[0] - p1[0])) > 0\n",
    "\n",
    "def next_point(chain, point, reverse=False):\n",
    "    index = chain.index(point)\n",
    "    if not reverse:\n",
    "        index = (index + 1) % len(chain)\n",
    "    else:\n",
    "        index = (index - 1) % len(chain)\n",
    "    return chain[index]\n",
    "\n",
    "\n",
    "    "
   ]
  },
  {
   "cell_type": "code",
   "execution_count": null,
   "id": "cdc6a534",
   "metadata": {},
   "outputs": [],
   "source": [
    "def convex_hull_2d(points: np.array):\n",
    "    points = np.array([(1,2),(3,4),(4,5)])\n",
    "    if len(points) < 3:\n",
    "        return points\n",
    "    elif len(points) <= 3:\n",
    "        return check_line(points)\n",
    "    else:\n",
    "        midpoint = int(len(points)/2)\n",
    "\n",
    "        left = convex_hull_2d(points[:midpoint])\n",
    "        right = convex_hull_2d(points[midpoint:])\n",
    "\n",
    "        return merge_hulls(left,right)"
   ]
  },
  {
   "cell_type": "code",
   "execution_count": null,
   "id": "daeae6d2",
   "metadata": {},
   "outputs": [],
   "source": [
    "convex_hull_2d([])"
   ]
  }
 ],
 "metadata": {
  "kernelspec": {
   "display_name": "Python 3 (ipykernel)",
   "language": "python",
   "name": "python3"
  },
  "language_info": {
   "codemirror_mode": {
    "name": "ipython",
    "version": 3
   },
   "file_extension": ".py",
   "mimetype": "text/x-python",
   "name": "python",
   "nbconvert_exporter": "python",
   "pygments_lexer": "ipython3",
   "version": "3.8.10"
  }
 },
 "nbformat": 4,
 "nbformat_minor": 5
}
